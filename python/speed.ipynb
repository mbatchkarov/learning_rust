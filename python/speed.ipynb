{
 "cells": [
  {
   "cell_type": "code",
   "execution_count": 1,
   "id": "aaed086e",
   "metadata": {},
   "outputs": [],
   "source": [
    "from sklearn.datasets import make_blobs\n",
    "from sklearn.cluster import KMeans\n",
    "from rsmeans.pymeans import cluster_numpy\n",
    "from cmeans.pywrapper import cluster as cluster_c\n",
    "from rsmeans import cluster as cluster_rust\n",
    "\n",
    "k = 10\n",
    "big_data, gold_labels = make_blobs(n_samples=10_000, n_features=1500, centers=k)\n",
    "\n",
    "def cluster_sklearn(data, k):\n",
    "    return KMeans(\n",
    "        n_clusters=k, init=\"random\", max_iter=5, n_init=1, tol=1e-10, copy_x=False\n",
    "    ).fit_predict(data)"
   ]
  },
  {
   "cell_type": "code",
   "execution_count": 2,
   "id": "2afaf603",
   "metadata": {},
   "outputs": [
    {
     "name": "stdout",
     "output_type": "stream",
     "text": [
      "202 ms ± 9.67 ms per loop (mean ± std. dev. of 7 runs, 1 loop each)\n"
     ]
    }
   ],
   "source": [
    "%timeit cluster_c(big_data, k)"
   ]
  },
  {
   "cell_type": "code",
   "execution_count": null,
   "id": "4b238d86",
   "metadata": {},
   "outputs": [
    {
     "name": "stderr",
     "output_type": "stream",
     "text": [
      "/Users/user/IdeaProjects/rsmeans/python/rsmeans/pymeans.py:53: RuntimeWarning: Mean of empty slice.\n",
      "  new_centroids[cluster, :] = data[\n",
      "/Users/user/miniconda3/lib/python3.10/site-packages/numpy/core/_methods.py:182: RuntimeWarning: invalid value encountered in divide\n",
      "  ret = um.true_divide(\n"
     ]
    }
   ],
   "source": [
    "%timeit cluster_numpy(big_data, k, sklearn_pairwise=False)"
   ]
  },
  {
   "cell_type": "code",
   "execution_count": null,
   "id": "e67ccb57-e9eb-4d2b-bf84-5b7b09b7dcd2",
   "metadata": {},
   "outputs": [],
   "source": [
    "%timeit cluster_numpy(big_data, k, sklearn_pairwise=True)"
   ]
  },
  {
   "cell_type": "code",
   "execution_count": null,
   "id": "e1d9e7eb",
   "metadata": {},
   "outputs": [],
   "source": [
    "%timeit cluster_rust(big_data, k)"
   ]
  },
  {
   "cell_type": "code",
   "execution_count": null,
   "id": "97496ee4",
   "metadata": {},
   "outputs": [],
   "source": [
    "%timeit cluster_sklearn(big_data, k)"
   ]
  },
  {
   "cell_type": "code",
   "execution_count": null,
   "id": "ce5da259-6d44-44c1-94ff-7d0d301b9ce5",
   "metadata": {},
   "outputs": [],
   "source": []
  }
 ],
 "metadata": {
  "kernelspec": {
   "display_name": "Python 3 (ipykernel)",
   "language": "python",
   "name": "python3"
  },
  "language_info": {
   "codemirror_mode": {
    "name": "ipython",
    "version": 3
   },
   "file_extension": ".py",
   "mimetype": "text/x-python",
   "name": "python",
   "nbconvert_exporter": "python",
   "pygments_lexer": "ipython3",
   "version": "3.10.9"
  }
 },
 "nbformat": 4,
 "nbformat_minor": 5
}
