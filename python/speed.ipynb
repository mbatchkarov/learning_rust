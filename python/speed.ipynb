{
 "cells": [
  {
   "cell_type": "code",
   "execution_count": 1,
   "id": "aaed086e",
   "metadata": {},
   "outputs": [],
   "source": [
    "from sklearn.datasets import make_blobs\n",
    "from sklearn.cluster import KMeans\n",
    "from rsmeans.pymeans import cluster_numpy\n",
    "from cmeans.pywrapper import cluster as cluster_c\n",
    "from rsmeans import cluster as cluster_rust\n",
    "\n",
    "k = 10\n",
    "big_data, gold_labels = make_blobs(n_samples=10_000, n_features=1500, centers=k)\n",
    "\n",
    "def cluster_sklearn(data, k):\n",
    "    return KMeans(\n",
    "        n_clusters=k, init=\"random\", max_iter=5, n_init=1, tol=1e-10\n",
    "    ).fit_predict(data)"
   ]
  },
  {
   "cell_type": "code",
   "execution_count": 4,
   "id": "2afaf603",
   "metadata": {},
   "outputs": [
    {
     "name": "stdout",
     "output_type": "stream",
     "text": [
      "1.55 s ± 60.2 ms per loop (mean ± std. dev. of 15 runs, 1 loop each)\n"
     ]
    }
   ],
   "source": [
    "%timeit -r 15 cluster_c(big_data, k)"
   ]
  },
  {
   "cell_type": "code",
   "execution_count": 5,
   "id": "4b238d86",
   "metadata": {},
   "outputs": [
    {
     "name": "stdout",
     "output_type": "stream",
     "text": [
      "3.97 s ± 184 ms per loop (mean ± std. dev. of 15 runs, 1 loop each)\n"
     ]
    }
   ],
   "source": [
    "%timeit -r 15 cluster_numpy(big_data, k)"
   ]
  },
  {
   "cell_type": "code",
   "execution_count": 6,
   "id": "e1d9e7eb",
   "metadata": {},
   "outputs": [
    {
     "name": "stdout",
     "output_type": "stream",
     "text": [
      "278 ms ± 35.6 ms per loop (mean ± std. dev. of 15 runs, 1 loop each)\n"
     ]
    }
   ],
   "source": [
    "%timeit -r 15 cluster_rust(big_data, k)"
   ]
  },
  {
   "cell_type": "code",
   "execution_count": 7,
   "id": "97496ee4",
   "metadata": {},
   "outputs": [
    {
     "name": "stdout",
     "output_type": "stream",
     "text": [
      "420 ms ± 126 ms per loop (mean ± std. dev. of 15 runs, 1 loop each)\n"
     ]
    }
   ],
   "source": [
    "%timeit -r 15 cluster_sklearn(big_data, k)"
   ]
  },
  {
   "cell_type": "code",
   "execution_count": null,
   "id": "416f1a17",
   "metadata": {},
   "outputs": [],
   "source": []
  }
 ],
 "metadata": {
  "kernelspec": {
   "display_name": "Python 3 (ipykernel)",
   "language": "python",
   "name": "python3"
  },
  "language_info": {
   "codemirror_mode": {
    "name": "ipython",
    "version": 3
   },
   "file_extension": ".py",
   "mimetype": "text/x-python",
   "name": "python",
   "nbconvert_exporter": "python",
   "pygments_lexer": "ipython3",
   "version": "3.10.9"
  }
 },
 "nbformat": 4,
 "nbformat_minor": 5
}
